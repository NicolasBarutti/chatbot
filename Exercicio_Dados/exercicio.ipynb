{
 "cells": [
  {
   "cell_type": "code",
   "execution_count": 14,
   "metadata": {},
   "outputs": [
    {
     "ename": "IndentationError",
     "evalue": "expected an indented block (2101484940.py, line 44)",
     "output_type": "error",
     "traceback": [
      "\u001b[1;36m  Cell \u001b[1;32mIn[14], line 44\u001b[1;36m\u001b[0m\n\u001b[1;33m    \u001b[0m\n\u001b[1;37m    ^\u001b[0m\n\u001b[1;31mIndentationError\u001b[0m\u001b[1;31m:\u001b[0m expected an indented block\n"
     ]
    }
   ],
   "source": [
    "def media_aritimetrica(x):\n",
    "    soma = 0\n",
    "    for i in range(len(x)):\n",
    "        soma = soma + x[i]\n",
    "    media = soma / len(x)\n",
    "    return media\n",
    "\n",
    "def media_Harmonica(x):\n",
    "    soma = 0\n",
    "    for i in range(len(x)):\n",
    "        soma = soma + 1/x[i]\n",
    "    media = soma / len(x)\n",
    "    return media\n",
    "\n",
    "def media_ponderada(x , w):\n",
    "    soma = 0\n",
    "    soma_w = 0\n",
    "    for i in range(len(x)):\n",
    "        soma = soma +  x[i] * w[i]\n",
    "        soma_w = soma_w + w[i]\n",
    "    media = soma / soma_w\n",
    "    return media   \n",
    "\n",
    "def mediana(x):\n",
    "    x.sort()\n",
    "    N = len(x)\n",
    "    if N%2 == 0:\n",
    "        mediana = (x[int(N/2)]) + x [int(N/2) - 1] / 2\n",
    "    else:\n",
    "        mediana = x [int((N +1)/2)]\n",
    "    return mediana\n",
    "\n",
    "def moda(x):\n",
    "    N = len(x)\n",
    "    temp = []\n",
    "    for i in range(0,N):\n",
    "        q = x.count(x[i], x[i])\n",
    "        temp.append(q)\n",
    "    temp = list(set(temp))\n",
    "    temp.sort(reverse = True)\n",
    "    resposta = []\n",
    "    for i in range(0,len(temp)):\n",
    "        if temp[0][0] == temp[i][0]:\n",
    "\n",
    "\n",
    "\n",
    "        "
   ]
  },
  {
   "cell_type": "code",
   "execution_count": 16,
   "metadata": {},
   "outputs": [],
   "source": [
    "def verificar_amostral(v):\n",
    "    media = media_aritimetrica\n",
    "    soma = 0\n",
    "    n = len(v) -1\n",
    "    for i in v:\n",
    "        soma += ((i - media)**2)\n",
    "    return soma / n\n",
    "\n",
    "def varianca_populacional(x):\n",
    "    media = media_aritimetrica(x)\n",
    "    soma = 0\n",
    "    N = len(x)\n",
    "    for i in range(0,N):\n",
    "        soma += (x[i] - media)**2\n",
    "    variacia = soma/(N-1)\n",
    "    return variacia\n",
    "\n",
    "def desvio_padrao_populacional(x):\n",
    "    return varianca_populacional (x) ** (1/2)\n",
    "\n",
    "def desvio_padrao_amostral(x):\n",
    "    return varianca_populacional(x) ** (1/2)"
   ]
  },
  {
   "cell_type": "code",
   "execution_count": null,
   "metadata": {},
   "outputs": [],
   "source": [
    "x = [39, 38, 27, 22, 20, 17, 10, 10, 10, 10, 7, 7, 7, 7, 6]"
   ]
  },
  {
   "cell_type": "code",
   "execution_count": null,
   "metadata": {},
   "outputs": [],
   "source": [
    "x = [39, 38, 27, 22, 20, 17, 10, 10, 10, 10, 7, 7, 7, 7, 6]"
   ]
  },
  {
   "cell_type": "code",
   "execution_count": null,
   "metadata": {},
   "outputs": [],
   "source": [
    "w = [113, 88, 58, 65, 71, 46, 36, 33, 37, 40, 24, 21, 20, 15, 20]"
   ]
  },
  {
   "cell_type": "code",
   "execution_count": null,
   "metadata": {},
   "outputs": [],
   "source": [
    "x1 = [39, 38, 27, 22, 20, 17, 10, 10, 10, 10, 7, 7, 7, 7, 6]\n"
   ]
  }
 ],
 "metadata": {
  "kernelspec": {
   "display_name": "Python 3",
   "language": "python",
   "name": "python3"
  },
  "language_info": {
   "codemirror_mode": {
    "name": "ipython",
    "version": 3
   },
   "file_extension": ".py",
   "mimetype": "text/x-python",
   "name": "python",
   "nbconvert_exporter": "python",
   "pygments_lexer": "ipython3",
   "version": "3.9.12"
  }
 },
 "nbformat": 4,
 "nbformat_minor": 2
}
